{
 "cells": [
  {
   "cell_type": "markdown",
   "id": "75f04174",
   "metadata": {},
   "source": [
    "<h1>Funçoes - Lista de exercicios</h1>\n",
    "<a>https://wiki.python.org.br/ExerciciosFuncoes</a>"
   ]
  },
  {
   "cell_type": "markdown",
   "id": "e378bd72",
   "metadata": {},
   "source": [
    "<p>3. Faça um programa, com uma função que necessite de três argumentos, e que forneça a soma desses três argumentos.</p>"
   ]
  },
  {
   "cell_type": "code",
   "execution_count": 3,
   "id": "b3f6d66c",
   "metadata": {},
   "outputs": [
    {
     "name": "stdout",
     "output_type": "stream",
     "text": [
      "40\n"
     ]
    }
   ],
   "source": [
    "def somaArgs (a, b, c):\n",
    "    return  a + b + c\n",
    "\n",
    "print(somaArgs(10, 10, 20))"
   ]
  },
  {
   "cell_type": "markdown",
   "id": "f2c51d11",
   "metadata": {},
   "source": [
    "<p>4. Faça um programa, com uma função que necessite de um argumento. A função retorna o valor de caractere ‘P’, se seu argumento for positivo, e ‘N’, se seu argumento for zero ou negativo.</p>"
   ]
  },
  {
   "cell_type": "code",
   "execution_count": 6,
   "id": "b9b5a3cd",
   "metadata": {},
   "outputs": [
    {
     "name": "stdout",
     "output_type": "stream",
     "text": [
      "N\n"
     ]
    }
   ],
   "source": [
    "def posOrNeg(x):\n",
    "    if(x < 0):\n",
    "        return \"N\"\n",
    "    else:\n",
    "        return \"P\"\n",
    "print(posOrNeg(-1))"
   ]
  },
  {
   "cell_type": "markdown",
   "id": "8ccccc1b",
   "metadata": {},
   "source": [
    "<p>5. Faça um programa com uma função chamada somaImposto. A função possui dois parâmetros formais: taxaImposto, que é a quantia de imposto sobre vendas expressa em porcentagem e custo, que é o custo de um item antes do imposto. A função “altera” o valor de custo para incluir o imposto sobre vendas.</p>"
   ]
  },
  {
   "cell_type": "code",
   "execution_count": 14,
   "id": "b474781a",
   "metadata": {},
   "outputs": [
    {
     "name": "stdout",
     "output_type": "stream",
     "text": [
      "Valor com imposto: R$440.0\n"
     ]
    }
   ],
   "source": [
    "def somaImposto(taxaImposto, custo):\n",
    "        taxaImposto = (taxaImposto/100)*custo\n",
    "        return custo + taxaImposto\n",
    "print(f'Valor com imposto: R${somaImposto(10, 400)}')"
   ]
  },
  {
   "cell_type": "markdown",
   "id": "952795c4",
   "metadata": {},
   "source": [
    "<p>Faça um programa que use a função valorPagamento para determinar o valor a ser pago por uma prestação de uma conta. \n",
    "    <br>\n",
    "      O programa deverá solicitar ao usuário o valor da prestação e o número de dias em atraso e passar estes valores para a função valorPagamento, que calculará o valor a ser pago e devolverá este valor ao programa que a chamou.\n",
    "   <br>\n",
    "    O programa deverá então exibir o valor a ser pago na tela. Após a execução o programa deverá voltar a pedir outro valor de prestação e assim continuar até que seja informado um valor igual a zero para a prestação. \n",
    "    <br>\n",
    "    Neste momento o programa deverá ser encerrado, exibindo o relatório do dia, que conterá a quantidade e o valor total de prestações pagas no dia. O cálculo do valor a ser pago é feito da seguinte forma. \n",
    "    <br>\n",
    "    Para pagamentos sem atraso, cobrar o valor da prestação. Quando houver atraso, cobrar 3% de multa, mais 0,1% de juros por dia de atraso.</p>"
   ]
  },
  {
   "cell_type": "code",
   "execution_count": 24,
   "id": "8fb9776d",
   "metadata": {},
   "outputs": [
    {
     "name": "stdout",
     "output_type": "stream",
     "text": [
      "Valor da tarifa (0 encerra o programa): 259.9\n",
      "Dias de atraso: 10\n",
      "Valor final a ser pago: 267.707\n",
      "Quantidade de tarifas pagas: 1\n",
      "Valor da tarifa (0 encerra o programa): 0\n"
     ]
    }
   ],
   "source": [
    "def valorPagamento():\n",
    "    contador_tarifas = 0\n",
    "    valor_tarifa = float(input('Valor da tarifa (0 encerra o programa): '))\n",
    "    while valor_tarifa != 0:\n",
    "        contador_tarifas += 1\n",
    "        dias_atraso = int(input('Dias de atraso: '))\n",
    "        if dias_atraso > 0:\n",
    "            multa = (3/100)*valor_tarifa\n",
    "            juros = (0.1/100)*dias_atraso\n",
    "            valor_final = valor_tarifa + multa + juros\n",
    "            print(f'Valor final a ser pago: {valor_final}')\n",
    "            print(f'Quantidade de tarifas pagas: {contador_tarifas}')\n",
    "        valor_tarifa = float(input('Valor da tarifa (0 encerra o programa): '))\n",
    "    return\n",
    "\n",
    "\n",
    "valorPagamento()"
   ]
  },
  {
   "cell_type": "markdown",
   "id": "47b8d645",
   "metadata": {},
   "source": [
    "<p>8. Faça uma função que informe a quantidade de dígitos de um determinado número inteiro informado</p>"
   ]
  },
  {
   "cell_type": "code",
   "execution_count": 32,
   "id": "9d807fab",
   "metadata": {},
   "outputs": [
    {
     "name": "stdout",
     "output_type": "stream",
     "text": [
      "Digite um numero: 4578\n"
     ]
    },
    {
     "data": {
      "text/plain": [
       "4.660675788338525"
      ]
     },
     "execution_count": 32,
     "metadata": {},
     "output_type": "execute_result"
    }
   ],
   "source": [
    "def tamanho_num(num):\n",
    "    import math\n",
    "    if num > 0:\n",
    "        return math.log10(num)+1\n",
    "\n",
    "numero = int(input('Digite um numero: '))\n",
    "\n",
    "tamanho_num(numero)"
   ]
  }
 ],
 "metadata": {
  "kernelspec": {
   "display_name": "Python 3 (ipykernel)",
   "language": "python",
   "name": "python3"
  },
  "language_info": {
   "codemirror_mode": {
    "name": "ipython",
    "version": 3
   },
   "file_extension": ".py",
   "mimetype": "text/x-python",
   "name": "python",
   "nbconvert_exporter": "python",
   "pygments_lexer": "ipython3",
   "version": "3.9.7"
  }
 },
 "nbformat": 4,
 "nbformat_minor": 5
}
