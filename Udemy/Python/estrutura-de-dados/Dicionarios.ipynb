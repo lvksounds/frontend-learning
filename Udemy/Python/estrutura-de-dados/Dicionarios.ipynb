{
 "cells": [
  {
   "cell_type": "markdown",
   "id": "2553a59b",
   "metadata": {},
   "source": [
    "<h1>Dicionários</h1>"
   ]
  },
  {
   "cell_type": "code",
   "execution_count": 7,
   "id": "5737c1a2",
   "metadata": {},
   "outputs": [
    {
     "name": "stdout",
     "output_type": "stream",
     "text": [
      "{'nome': 'Lucas', 'idade': 23, 'nota final': 'A', 'aprovação': True}\n",
      "Lucas\n",
      "A\n"
     ]
    }
   ],
   "source": [
    "# Dicionarios \n",
    "    # Utiliza index no formato de Keys e Values\n",
    "    # Aceita string, integer, float, boolean...\n",
    "    # sao mutaveis\n",
    "    \n",
    "aluno = {'nome':'Lucas', 'idade': 23, 'nota final':'A', 'aprovação': True}\n",
    "\n",
    "print(aluno)\n",
    "\n",
    "# nos dicionarios, para acessar o index utilizamos o nome da key: \n",
    "\n",
    "print(aluno['nome'])\n",
    "print(aluno['nota final'])"
   ]
  },
  {
   "cell_type": "code",
   "execution_count": 19,
   "id": "e5575f64",
   "metadata": {},
   "outputs": [
    {
     "name": "stdout",
     "output_type": "stream",
     "text": [
      "{'nome': 'Lucas', 'idade': 23, 'nota final': 'A', 'aprovação': True}\n",
      "{'nome': 'Jose', 'idade': 23, 'nota final': 'A', 'aprovação': True}\n",
      "{'nome': 'Julia', 'idade': 22, 'nota final': 'A', 'aprovação': True}\n",
      "nao existe\n"
     ]
    }
   ],
   "source": [
    "# manipulando dados dentro de um dicionario\n",
    "print(aluno)\n",
    "# atualizando um item: \n",
    "# primeira maneira\n",
    "aluno['nome'] = 'Jose'\n",
    "print(aluno)\n",
    "\n",
    "# segunda maneira: \n",
    "aluno.update({'nome':'Julia', 'idade':22})\n",
    "print(aluno)\n",
    "\n",
    "# adicionar items\n",
    "# update ira adicionar ao inves de modificar qual o parametro(indice) nao existir no dicionario\n",
    "#aluno.update({'endereco':'Rua J'})\n",
    "#print(aluno)\n",
    "\n",
    "\n",
    "# retornar o valor da KEY de uma forma diferente\n",
    "print(aluno.get('endereco', 'nao existe')) #mensagem de retorno (no segundo statement)))\n",
    "\n",
    "#caso o dado que desejamos coletar nao exista o get retorna o valor none ao inves de retornar um erro "
   ]
  },
  {
   "cell_type": "code",
   "execution_count": 34,
   "id": "07dba664",
   "metadata": {},
   "outputs": [
    {
     "name": "stdout",
     "output_type": "stream",
     "text": [
      "nome : Julia\n",
      "idade : 22\n",
      "nota final : A\n",
      "aprovação : True\n"
     ]
    }
   ],
   "source": [
    "# looping dentro de dicts\n",
    "\n",
    "for keys, values in aluno.items():\n",
    "    print(keys,':', values)\n"
   ]
  },
  {
   "cell_type": "code",
   "execution_count": 3,
   "id": "780d5ae8",
   "metadata": {},
   "outputs": [
    {
     "name": "stdout",
     "output_type": "stream",
     "text": [
      "dict_items([('nome', 'Lucas'), ('idade', 23), ('nota final', 'A'), ('aprovação', True), ('materias', ['Biologia', 'Matematica', 'Historia'])])\n",
      "\n",
      "dict_keys(['nome', 'idade', 'nota final', 'aprovação', 'materias'])\n",
      "\n",
      "dict_values(['Lucas', 23, 'A', True, ['Biologia', 'Matematica', 'Historia']])\n",
      "\n",
      "['Biologia', 'Matematica', 'Historia']\n"
     ]
    }
   ],
   "source": [
    "# visualizando items, key e values\n",
    "\n",
    "aluno1 = {'nome':'Lucas', \n",
    "'idade': 23, \n",
    "'nota final':'A', \n",
    "'aprovação': True, \n",
    "'materias':['Biologia', 'Matematica', 'Historia']}\n",
    "\n",
    "print(aluno1.items())\n",
    "print()\n",
    "print(aluno1.keys())\n",
    "print()\n",
    "print(aluno1.values())\n",
    "print()\n",
    "print(aluno1.get('materias'))\n",
    "\n",
    "\n",
    "#for keys, values in aluno.items():\n",
    "#   print(keys.capitalize() +':', values)\n",
    "\n"
   ]
  },
  {
   "cell_type": "code",
   "execution_count": 17,
   "id": "100082b9",
   "metadata": {},
   "outputs": [
    {
     "name": "stdout",
     "output_type": "stream",
     "text": [
      "Nike\n",
      "dict_items([('marca', 'Nike'), ('tam', 'gg'), ('preço', 45.0)])\n",
      "dict_values(['Nike', 'gg', 45.0])\n",
      "dict_keys(['marca', 'tam', 'preço'])\n",
      "marca Nike\n",
      "tam gg\n",
      "preço 45.0\n"
     ]
    }
   ],
   "source": [
    "roupa = {'marca':'Nike', 'tam':'gg', 'preço':45.0}\n",
    "\n",
    "print(roupa.get('marca'))\n",
    "print(roupa.items())\n",
    "print(roupa.values())\n",
    "print(roupa.keys())\n",
    "\n",
    "for keys, values in roupa.items():\n",
    "    print(keys, values)"
   ]
  }
 ],
 "metadata": {
  "kernelspec": {
   "display_name": "Python 3 (ipykernel)",
   "language": "python",
   "name": "python3"
  },
  "language_info": {
   "codemirror_mode": {
    "name": "ipython",
    "version": 3
   },
   "file_extension": ".py",
   "mimetype": "text/x-python",
   "name": "python",
   "nbconvert_exporter": "python",
   "pygments_lexer": "ipython3",
   "version": "3.9.7"
  }
 },
 "nbformat": 4,
 "nbformat_minor": 5
}
