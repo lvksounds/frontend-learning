{
 "cells": [
  {
   "cell_type": "markdown",
   "id": "e8716937",
   "metadata": {},
   "source": [
    "<b>Functions\n",
    "    <br>\n",
    "    <quote>DRY - Don't repeat yourself </quote>"
   ]
  },
  {
   "cell_type": "code",
   "execution_count": 7,
   "id": "b2bac612",
   "metadata": {},
   "outputs": [
    {
     "name": "stdout",
     "output_type": "stream",
     "text": [
      "ola marcos\n",
      "temos 5 laptops em estoque\n"
     ]
    }
   ],
   "source": [
    "def boas_vindas():\n",
    "    print('ola marcos')\n",
    "    print('temos 5 laptops em estoque')\n",
    "\n",
    "boas_vindas()\n",
    " "
   ]
  },
  {
   "cell_type": "code",
   "execution_count": 4,
   "id": "d3441441",
   "metadata": {},
   "outputs": [
    {
     "name": "stdout",
     "output_type": "stream",
     "text": [
      "Olá Lucas!\n",
      "Temos 10 notebooks disponíveis em estoque.\n"
     ]
    }
   ],
   "source": [
    "#Parametros e argumentos\n",
    "#Argumentos default e non-default\n",
    "#default: aquele que você define o valor no parametro\n",
    "#non-default: aquele que voce nao define o valor no parametro\n",
    "\n",
    "def boas_vindas(nome, notebooks=10):\n",
    "    print(f'Olá {nome.capitalize()}!')\n",
    "    print(f'Temos {notebooks} notebooks disponíveis em estoque.')\n",
    "boas_vindas('Lucas')"
   ]
  },
  {
   "cell_type": "code",
   "execution_count": 15,
   "id": "f3d6e8bb",
   "metadata": {},
   "outputs": [
    {
     "name": "stdout",
     "output_type": "stream",
     "text": [
      "nome do cliente? lucas\n",
      "Olá lucas!\n"
     ]
    }
   ],
   "source": [
    "#tipos de funçoes\n",
    "#funçoes realizam uma tarefa, ou calculam e retornam um valor\n",
    "\n",
    "def cliente1(nome):\n",
    "    return f'Olá {nome}!'\n",
    "\n",
    "variavel = cliente1(input('nome do cliente? '))\n",
    "\n",
    "print(variavel)"
   ]
  },
  {
   "cell_type": "code",
   "execution_count": 18,
   "id": "28b0284f",
   "metadata": {},
   "outputs": [
    {
     "name": "stdout",
     "output_type": "stream",
     "text": [
      "{'marca': 'Gol', 'cor': 'Branco', 'motor': 1.0}\n"
     ]
    }
   ],
   "source": [
    "#criar uma função que armazena numeros e strings (dados)\n",
    "# apenas um '*' passa para a função que teremos varios argumentos\n",
    "# ja dois '**' passam pra função que teremos varios argumento E parametros\n",
    "\n",
    "def agencia(**carro):\n",
    "    return carro\n",
    "\n",
    "print(agencia(marca ='Gol', cor = 'Branco', motor = 1.0))\n"
   ]
  }
 ],
 "metadata": {
  "kernelspec": {
   "display_name": "Python 3 (ipykernel)",
   "language": "python",
   "name": "python3"
  },
  "language_info": {
   "codemirror_mode": {
    "name": "ipython",
    "version": 3
   },
   "file_extension": ".py",
   "mimetype": "text/x-python",
   "name": "python",
   "nbconvert_exporter": "python",
   "pygments_lexer": "ipython3",
   "version": "3.9.7"
  }
 },
 "nbformat": 4,
 "nbformat_minor": 5
}
