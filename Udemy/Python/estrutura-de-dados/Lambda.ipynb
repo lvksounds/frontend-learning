{
 "cells": [
  {
   "cell_type": "markdown",
   "id": "dff156f0",
   "metadata": {},
   "source": [
    "<h1>Lambda Function</h1>"
   ]
  },
  {
   "cell_type": "code",
   "execution_count": 1,
   "id": "1f5df2ba",
   "metadata": {},
   "outputs": [
    {
     "name": "stdout",
     "output_type": "stream",
     "text": [
      "34\n"
     ]
    }
   ],
   "source": [
    "# Lambda function\n",
    "    # é uma função (pequena) sem nome\n",
    "    # Muito utilizada dentro de outras funções\n",
    "    # código mais clean\n",
    "    # lambda [arg]: [expression]\n",
    "\n",
    "\n",
    "# def somar(x):\n",
    "#    return x + 10\n",
    "\n",
    "\n",
    "# print(somar(2))\n",
    "\n",
    "\n",
    "somar10 = lambda x, y: x + y + 10\n",
    "\n",
    "print(somar10(20, 4))"
   ]
  },
  {
   "cell_type": "code",
   "execution_count": null,
   "id": "71455a38",
   "metadata": {},
   "outputs": [],
   "source": [
    "# lambda dentro de uma função \n",
    "\n",
    "def somar(x):\n",
    "    subfunc = lambda x: x + 10\n",
    "    return subfunc(x) * 2\n",
    "\n",
    "print(somar(10))"
   ]
  }
 ],
 "metadata": {
  "kernelspec": {
   "display_name": "Python 3 (ipykernel)",
   "language": "python",
   "name": "python3"
  },
  "language_info": {
   "codemirror_mode": {
    "name": "ipython",
    "version": 3
   },
   "file_extension": ".py",
   "mimetype": "text/x-python",
   "name": "python",
   "nbconvert_exporter": "python",
   "pygments_lexer": "ipython3",
   "version": "3.9.7"
  }
 },
 "nbformat": 4,
 "nbformat_minor": 5
}
