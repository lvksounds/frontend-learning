{
 "cells": [
  {
   "cell_type": "code",
   "execution_count": 18,
   "id": "1b08ff8b",
   "metadata": {},
   "outputs": [
    {
     "name": "stdout",
     "output_type": "stream",
     "text": [
      "['abacate', 'banana', 'abacaxi']\n"
     ]
    }
   ],
   "source": [
    "# forma mais facil de rodar if/fors dentro de uma lista \n",
    "# utilizando quando voce precisa criar uma nova lista a partir de uma existente\n",
    "# [expressao for iten in itens]\n",
    "\n",
    "frutas = ['abacate', 'banana', 'morango', 'kiwi', 'abacaxi']\n",
    "\n",
    "# frutas2 = []\n",
    "\n",
    "'''for iten in frutas:\n",
    "    if 'b' in iten:\n",
    "        frutas2.append(iten)'''\n",
    "        \n",
    "\n",
    "[iten for iten in frutas if 'n' in iten]    \n",
    "\n",
    "print(frutas2)\n",
    "\n"
   ]
  },
  {
   "cell_type": "code",
   "execution_count": null,
   "id": "a8f711cd",
   "metadata": {},
   "outputs": [],
   "source": [
    "# forma mais facil de rodar if/fors dentro de uma lista \n",
    "# utilizando quando voce precisa criar uma nova lista a partir de uma existente\n",
    "# [expressao for iten in itens]\n",
    "\n",
    "# colocar 5 valores dentro de uma lista aumentando de 10 em 10\n",
    "\n",
    "lista = []\n",
    "'''\n",
    "for x in range (6):\n",
    "    lista.append(x * 10)\n",
    "\n",
    "print(lista)'''\n",
    "\n",
    "lista2 = [x * 10 for x in range(6)] # comando que efetua o mesmo que o loop fro de cima.\n",
    "\n",
    "print(lista2)\n"
   ]
  }
 ],
 "metadata": {
  "kernelspec": {
   "display_name": "Python 3 (ipykernel)",
   "language": "python",
   "name": "python3"
  },
  "language_info": {
   "codemirror_mode": {
    "name": "ipython",
    "version": 3
   },
   "file_extension": ".py",
   "mimetype": "text/x-python",
   "name": "python",
   "nbconvert_exporter": "python",
   "pygments_lexer": "ipython3",
   "version": "3.9.7"
  }
 },
 "nbformat": 4,
 "nbformat_minor": 5
}
