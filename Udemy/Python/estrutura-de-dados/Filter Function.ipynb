{
 "cells": [
  {
   "cell_type": "markdown",
   "id": "e5410f6c",
   "metadata": {},
   "source": [
    "<h1>Filter</h1>"
   ]
  },
  {
   "cell_type": "code",
   "execution_count": 12,
   "id": "9a6e255d",
   "metadata": {},
   "outputs": [
    {
     "name": "stdout",
     "output_type": "stream",
     "text": [
      "[10, 12]\n",
      "[10, 12]\n"
     ]
    }
   ],
   "source": [
    "# filter function\n",
    "    # Muito utilizado com listas\n",
    "    # Aplicar uma função a iterable, filtrando os items. (list, tuple, etc.)\n",
    "    \n",
    "valores = [10, 12, 34, 44, 57]\n",
    "\n",
    "def remover20(x):\n",
    "    return x < 30 #função que retorna apenas os valores que sao maiores que 20\n",
    "\n",
    "\n",
    "print(list(filter(remover20, valores)))\n",
    "\n",
    "print(list(filter(lambda x: x < 34, valores)))"
   ]
  },
  {
   "cell_type": "code",
   "execution_count": null,
   "id": "02d08f75",
   "metadata": {},
   "outputs": [],
   "source": []
  }
 ],
 "metadata": {
  "kernelspec": {
   "display_name": "Python 3 (ipykernel)",
   "language": "python",
   "name": "python3"
  },
  "language_info": {
   "codemirror_mode": {
    "name": "ipython",
    "version": 3
   },
   "file_extension": ".py",
   "mimetype": "text/x-python",
   "name": "python",
   "nbconvert_exporter": "python",
   "pygments_lexer": "ipython3",
   "version": "3.9.7"
  }
 },
 "nbformat": 4,
 "nbformat_minor": 5
}
