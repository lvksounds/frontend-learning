{
 "cells": [
  {
   "cell_type": "code",
   "execution_count": 9,
   "id": "41928d4b",
   "metadata": {},
   "outputs": [
    {
     "name": "stdout",
     "output_type": "stream",
     "text": [
      "['a', 'b', 'c', 'd']\n",
      "[10, 20, 30, 40]\n",
      "[1.2, 2.2, 3.2]\n",
      "array('u', 'abcd')\n",
      "array('i', [10, 20, 30, 40])\n",
      "array('f', [1.2000000476837158, 2.200000047683716, 3.200000047683716])\n"
     ]
    }
   ],
   "source": [
    "# Trabalhando com ARRAYS\n",
    "# Quando utilizar um array? Quando nossa lista é muito grande.\n",
    "# quando queremos reduzir os problemas de perfomance(memoria) causados por listas que\n",
    "# possuem um grande quantidade de itens.\n",
    "\n",
    "# ARRAY (MATRIZ)\n",
    "    # Similar a listas\n",
    "    # melhor peformance\n",
    "# para se trabahar com arrays é necessario importamos a biblioteca\n",
    "# arrays precisam de um type code(especificar o tipo de dado que sera armazenado)\n",
    "# i - inteiro\n",
    "# f - float\n",
    "# u - caracteres\n",
    "\n",
    "from array import array\n",
    "    \n",
    "letras = ['a', 'b', 'c', 'd']\n",
    "numeros_i = [10, 20, 30, 40]\n",
    "numeros_f = [1.2, 2.2, 3.2]\n",
    "\n",
    "\n",
    "print(letras)\n",
    "print(numeros_i)\n",
    "print(numeros_f)\n",
    "\n",
    "\n",
    "letras = array('u', letras)\n",
    "numeros_i = array('i', numeros_i)\n",
    "numeros_f = array('f', numeros_f)\n",
    "\n",
    "\n",
    "print(letras)\n",
    "print(numeros_i)\n",
    "print(numeros_f)\n",
    "\n"
   ]
  }
 ],
 "metadata": {
  "kernelspec": {
   "display_name": "Python 3 (ipykernel)",
   "language": "python",
   "name": "python3"
  },
  "language_info": {
   "codemirror_mode": {
    "name": "ipython",
    "version": 3
   },
   "file_extension": ".py",
   "mimetype": "text/x-python",
   "name": "python",
   "nbconvert_exporter": "python",
   "pygments_lexer": "ipython3",
   "version": "3.9.7"
  }
 },
 "nbformat": 4,
 "nbformat_minor": 5
}
