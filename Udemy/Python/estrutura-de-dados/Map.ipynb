{
 "cells": [
  {
   "cell_type": "markdown",
   "id": "a20daa8b",
   "metadata": {},
   "source": [
    "<h1>MAP</h1>\n",
    "<p>Função map em listas</p>"
   ]
  },
  {
   "cell_type": "code",
   "execution_count": 1,
   "id": "609a9c83",
   "metadata": {},
   "outputs": [
    {
     "name": "stdout",
     "output_type": "stream",
     "text": [
      "[2, 4, 6, 8]\n",
      "[15, 14]\n"
     ]
    }
   ],
   "source": [
    "# Map function\n",
    "    # muito com listas\n",
    "    # aplicar uma função a um Iterable, por item. (list, tuple, dic, etc.)\n",
    "    # map()\n",
    "\n",
    "lista1 = [1, 2, 3, 4]\n",
    "\n",
    "def multi(x):\n",
    "    return x * 2\n",
    "\n",
    "lista2 = map(multi, lista1)\n",
    "\n",
    "print(list(lista2))\n",
    "\n",
    "\n",
    "num = [10, 9] \n",
    "\n",
    "def soma(y):\n",
    "    return y + 5\n",
    "\n",
    "num2 = map(soma, num)\n",
    "\n",
    "print(list(num2))\n"
   ]
  },
  {
   "cell_type": "code",
   "execution_count": 3,
   "id": "d7258f6a",
   "metadata": {},
   "outputs": [
    {
     "name": "stdout",
     "output_type": "stream",
     "text": [
      "[2, 4, 6, 8]\n",
      "[15, 30, 45]\n",
      "[5, 10, 15]\n",
      "[3, 6, 9, 2, 4, 6]\n"
     ]
    }
   ],
   "source": [
    "# map com lambda\n",
    "# Map function\n",
    "    # muito com listas\n",
    "    # aplicar uma função a um Iterable, por item. (list, tuple, dic, etc.)\n",
    "    # map()\n",
    "\n",
    "lista1 = [1, 2, 3, 4]\n",
    "\n",
    "'''def multi(x):\n",
    "    return x * 2'''\n",
    "\n",
    "#lista2 = map(lambda x: x*2, lista1) # o map esta mapeando a função com a lista como parametro\n",
    "\n",
    "print(list(map(lambda x: x*2, lista1)))\n",
    "\n",
    "\n",
    "lista2 = [3, 6, 9]\n",
    "\n",
    "print(list(map(lambda x: x*5, lista2)))\n",
    "\n",
    "\n",
    "lista3 = [2, 4, 6]\n",
    "\n",
    "print(list(map(lambda x, y: x + y, lista3, lista2))) #soma da lista 2 com a lista3\n",
    "\n",
    "\n",
    "lista4 = lista2 + lista3\n",
    "\n",
    "print(lista4)"
   ]
  }
 ],
 "metadata": {
  "kernelspec": {
   "display_name": "Python 3 (ipykernel)",
   "language": "python",
   "name": "python3"
  },
  "language_info": {
   "codemirror_mode": {
    "name": "ipython",
    "version": 3
   },
   "file_extension": ".py",
   "mimetype": "text/x-python",
   "name": "python",
   "nbconvert_exporter": "python",
   "pygments_lexer": "ipython3",
   "version": "3.9.7"
  }
 },
 "nbformat": 4,
 "nbformat_minor": 5
}
