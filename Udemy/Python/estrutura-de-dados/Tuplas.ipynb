{
 "cells": [
  {
   "cell_type": "markdown",
   "id": "1cf26606",
   "metadata": {},
   "source": [
    "<h1>Tuplas</h1>"
   ]
  },
  {
   "cell_type": "code",
   "execution_count": 2,
   "id": "ea3d6816",
   "metadata": {},
   "outputs": [
    {
     "name": "stdout",
     "output_type": "stream",
     "text": [
      "['amarelo', 'verde', 'azul', 'vermelho']\n",
      "amarelo\n"
     ]
    }
   ],
   "source": [
    "# entendendo tuplas:\n",
    "\"\"\"\n",
    "Tuplas também sao listas, porém a diferença é que ela nao pode ser alterada.\n",
    "(Immutable)\n",
    "\"\"\"\n",
    "cores_list = ['amarelo', 'verde', 'azul', 'vermelho']\n",
    "cores_tuple = ('amarelo', 'verde', 'azul', 'vermelho')\n",
    "\n",
    "print(cores_list)\n",
    "print(cores_tuple)\n",
    "\n",
    "#quando usar lista ou tuple?\n",
    "# quando quisermos usar uma lista de itens FIXA, usamos tuple\n",
    "# quando quisermos usar uma lista que SOFRERÁ MODIFICAÇÕES, utilizamos list\n",
    "\n",
    "# Listas gastam mais memoria.\n",
    "\n"
   ]
  }
 ],
 "metadata": {
  "kernelspec": {
   "display_name": "Python 3 (ipykernel)",
   "language": "python",
   "name": "python3"
  },
  "language_info": {
   "codemirror_mode": {
    "name": "ipython",
    "version": 3
   },
   "file_extension": ".py",
   "mimetype": "text/x-python",
   "name": "python",
   "nbconvert_exporter": "python",
   "pygments_lexer": "ipython3",
   "version": "3.9.7"
  }
 },
 "nbformat": 4,
 "nbformat_minor": 5
}
