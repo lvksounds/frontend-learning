{
 "cells": [
  {
   "cell_type": "code",
   "execution_count": null,
   "id": "35c20336",
   "metadata": {},
   "outputs": [],
   "source": [
    "#importando modulos. \n",
    "\n",
    "#Fatorial\n",
    "#qual é o numero fatorial de 4\n",
    "\n",
    "import math\n",
    "\n",
    "print(math.factorial(40))\n",
    "    "
   ]
  },
  {
   "cell_type": "markdown",
   "id": "e60b89dd",
   "metadata": {},
   "source": [
    "<b>LISTAS</b>"
   ]
  },
  {
   "cell_type": "code",
   "execution_count": null,
   "id": "e452c785",
   "metadata": {},
   "outputs": [],
   "source": [
    "#introdução a listas\n",
    "\n",
    "cidades = ['Sao paulo', 'Rio de janeiro', 'Brasilia']\n",
    "\n",
    "for c in cidades: \n",
    "    print(cidades[0:3])\n",
    "    break"
   ]
  },
  {
   "cell_type": "code",
   "execution_count": null,
   "id": "c6f18f5f",
   "metadata": {},
   "outputs": [],
   "source": [
    "#manipulando listas\n",
    "\n",
    "cidades = ['Sao paulo', 'Rio de janeiro', 'Brasilia', 'Salvador']\n",
    "\n",
    "cidades[0] = 'Pinheiral' #mudando sao paulo para pinheiral\n",
    "print(cidades)\n",
    "\n",
    "print(cidades[1])"
   ]
  },
  {
   "cell_type": "code",
   "execution_count": null,
   "id": "e079fdff",
   "metadata": {},
   "outputs": [],
   "source": [
    "#funções dentro de listas\n",
    "#append\n",
    "\n",
    "print('Função append')\n",
    "fav_prods = ['Bster', 'Downtime', 'J.robb', '6-6-6']\n",
    "fav_prods.append('Kaytranada')\n",
    "print(fav_prods)\n",
    "\n",
    "fav_prods.remove('6-6-6')\n",
    "print(fav_prods)\n",
    "\n",
    "fav_prods.insert(4, 'l v k s') #insere um elemento no indice especifico\n",
    "print(fav_prods)\n",
    "\n",
    "fav_prods.pop(1) #remove um elemento na posição especificada\n",
    "print(fav_prods)"
   ]
  },
  {
   "cell_type": "code",
   "execution_count": null,
   "id": "ac1d5157",
   "metadata": {},
   "outputs": [],
   "source": [
    "# concatenando listas \n",
    "# armazenar mais de uma informação em variaveis\n",
    "# manter a sequencia dos dados em uma variavel \n",
    "\n",
    "numeros = [2, 3, 4, 5]\n",
    "letras = ['a', 'b', 'c', 'd']\n",
    "\n",
    "#final = numeros + letras\n",
    "\n",
    "numeros.extend(letras) # extende a lista \"numeros\" com a lista \"letras\"\n",
    "\n",
    "print(numeros)\n"
   ]
  },
  {
   "cell_type": "code",
   "execution_count": null,
   "id": "db2e6bc1",
   "metadata": {},
   "outputs": [],
   "source": [
    "#listas dentro de listas\n",
    "\n",
    "itens = [['item 1', 'item 2'], ['item 3', 'item 4']]\n",
    "\n",
    "print(itens[1][1])"
   ]
  },
  {
   "cell_type": "code",
   "execution_count": null,
   "id": "e70755c5",
   "metadata": {},
   "outputs": [],
   "source": [
    "# Extrair variaveis de uma lista - Unpacking lists\n",
    "\n",
    "produtos = ['Arroz', 'Feijao', 'Laranja', 'Banana', 1, 'alo', 'mane']\n",
    "\n",
    "item1, item2, item3, *outros = produtos\n",
    "\n",
    "print(item1)\n",
    "print(item2)\n",
    "print(item3)\n",
    "print(outros)\n"
   ]
  },
  {
   "cell_type": "code",
   "execution_count": null,
   "id": "22fd2b20",
   "metadata": {},
   "outputs": [],
   "source": [
    "# looping dentro de uma lista \n",
    "\n",
    "valores = [50, 80, 110, 150, 170]\n",
    "\n",
    "for v in valores:\n",
    "    print(v)"
   ]
  },
  {
   "cell_type": "code",
   "execution_count": 13,
   "id": "52e0d4f9",
   "metadata": {},
   "outputs": [
    {
     "name": "stdout",
     "output_type": "stream",
     "text": [
      "Digite uma cor: black\n",
      "Cor indisponivel em estoque.\n"
     ]
    }
   ],
   "source": [
    "# Armazenar mais de uma informação em variaveis\n",
    "# Manter a sequencia dos dados em uma variavel \n",
    "\n",
    "cores = ['Amarelo', 'Verde', 'Azul', 'Vermelho']\n",
    "\n",
    "cor_cliente = input('Digite uma cor: ').capitalize()\n",
    "\n",
    "if cor_cliente in cores:\n",
    "    print(\"Cor disponivel em estoque.\")\n",
    "else:\n",
    "    print('Cor indisponivel em estoque.')"
   ]
  },
  {
   "cell_type": "code",
   "execution_count": 25,
   "id": "7035c54a",
   "metadata": {},
   "outputs": [
    {
     "name": "stdout",
     "output_type": "stream",
     "text": [
      "['l', 'u', 'c', 'a', 's']\n",
      "<zip object at 0x000001F00C1B0640>\n",
      "[('Amarelo', 10), ('Verde', 20), ('Azul', 30), ('Vermelho', 40)]\n"
     ]
    }
   ],
   "source": [
    "# agregando duas listas com zip\n",
    "# imprimir uma lista aonde eu tenha primeiro a cor \n",
    "# e depois o numero relacionado a cor\n",
    "\n",
    "\n",
    "cores = ['Amarelo', 'Verde', 'Azul', 'Vermelho']\n",
    "valores = [10, 20, 30, 40]\n",
    "\n",
    "# metodo list(): tranforma a informação passada(string) em uma lista\n",
    "var = list('lucas')\n",
    "\n",
    "print(var)\n",
    "\n",
    "#juntando as listas\n",
    "\n",
    "duasListas = zip(cores, valores)\n",
    "\n",
    "print(duasListas)\n",
    "\n",
    "# modificando o valor do zip para uma lista\n",
    "\n",
    "print(list(duasListas))"
   ]
  },
  {
   "cell_type": "code",
   "execution_count": 30,
   "id": "0917a102",
   "metadata": {},
   "outputs": [
    {
     "name": "stdout",
     "output_type": "stream",
     "text": [
      "Frutas (separado por virgula): maçã, banana, tomate, kiwi, abacaxi, pera\n",
      "Lista de Frutas: ['maçã', 'banana', 'tomate', 'kiwi', 'abacaxi', 'pera']\n"
     ]
    }
   ],
   "source": [
    "# input em listas \n",
    "# armazenar mais de uma informação em variaveis\n",
    "# manter a sequencia ds dados em uma variavel\n",
    "\n",
    "# criar uma lista de frutas a partir do input fornecido pelo usuario\n",
    "# utilizando a função \".split()\" = usando para armazenar dentro de uma lista,\n",
    "# separando a string sempre que vizualiza uam lista.\n",
    "\n",
    "frutas_user = input('Frutas (separado por virgula): ')\n",
    "listaFrutas = frutas_user.split(', ') #o split irá separar os itens sempre que visualizar uma virgula e um espaço. \n",
    "\n",
    "print(f'Lista de Frutas: {listaFrutas}')"
   ]
  },
  {
   "cell_type": "code",
   "execution_count": null,
   "id": "c40f3226",
   "metadata": {},
   "outputs": [],
   "source": []
  }
 ],
 "metadata": {
  "kernelspec": {
   "display_name": "Python 3 (ipykernel)",
   "language": "python",
   "name": "python3"
  },
  "language_info": {
   "codemirror_mode": {
    "name": "ipython",
    "version": 3
   },
   "file_extension": ".py",
   "mimetype": "text/x-python",
   "name": "python",
   "nbconvert_exporter": "python",
   "pygments_lexer": "ipython3",
   "version": "3.9.7"
  }
 },
 "nbformat": 4,
 "nbformat_minor": 5
}
