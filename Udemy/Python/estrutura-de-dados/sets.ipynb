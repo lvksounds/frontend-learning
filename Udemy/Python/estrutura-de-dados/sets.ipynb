{
 "cells": [
  {
   "cell_type": "markdown",
   "id": "a5a04c32",
   "metadata": {},
   "source": [
    "<h1>Sets</h1>"
   ]
  },
  {
   "cell_type": "code",
   "execution_count": 2,
   "id": "6f6d5db5",
   "metadata": {},
   "outputs": [
    {
     "name": "stdout",
     "output_type": "stream",
     "text": [
      "{40, 10, 50, 20, 30}\n",
      "{70, 10, 20, 60}\n",
      "union = {70, 40, 10, 50, 20, 60, 30}\n",
      "difference = {40, 50, 30}\n",
      "symmetric diefference = {70, 40, 50, 60, 30}\n",
      "and = {10, 20}\n"
     ]
    }
   ],
   "source": [
    "# Criando SETS\n",
    "    # similar a listas\n",
    "    # evita itens duplicados\n",
    "    # não utiliza index\n",
    "    # {} usa chaves apos a conversao\n",
    "\n",
    "list1 = [10, 20, 30, 40, 50]\n",
    "list2 = [10, 20, 60, 70]\n",
    "\n",
    "num1 = set(list1)\n",
    "num2 = set(list2)\n",
    "\n",
    "print(num1)\n",
    "print(num2)\n",
    "\n",
    "# operadores de sets \n",
    "# | union\n",
    "print(f'union = {num1 | num2}') # nao repete valores iguais \n",
    "\n",
    "# difference\n",
    "print (f'difference = {num1 - num2}') # mostra apenas os numeros que nao se repetem\n",
    "\n",
    "# symmetric diefference\n",
    "print(f'symmetric diefference = {num1 ^ num2}') # retira todos os duplicados nas duas listas (apenas os valores unicos das duas sets)\n",
    "\n",
    "# and \n",
    "\n",
    "print(f'and = {num1 & num2}') # mostra apenas o que é duplicado nas duas listas\n"
   ]
  },
  {
   "cell_type": "code",
   "execution_count": 9,
   "id": "12c6c964",
   "metadata": {},
   "outputs": [
    {
     "name": "stdout",
     "output_type": "stream",
     "text": [
      "{2, 3, 4, 5, 6}\n"
     ]
    }
   ],
   "source": [
    "# funções em seS\n",
    "\n",
    "s1 = {1, 2, 3, 4, 5, 6}\n",
    "\n",
    "# s1.add(9) # adiciona um item a set\n",
    "# s1.update([7, 8, 9, 10]) # adiciona varios itens ao set - usar lista\n",
    "# s1.remove(5) # remove um elemento gera um erro caso o item nao exista\n",
    "# s1.discard(1) # nao gera erro caso o item nao exista\n",
    "\n",
    "\n",
    "print(s1)"
   ]
  },
  {
   "cell_type": "code",
   "execution_count": null,
   "id": "71bc31d9",
   "metadata": {},
   "outputs": [],
   "source": [
    "# sets com strings\n",
    "\n",
    "set1 = {'a', 'b', 'c'}\n",
    "set2 = {'a', 'd', 'e'}\n",
    "set3 = {'c', 'd', 'f'}\n",
    "\n",
    "set4 = set(set1.symmetric_difference(set3))\n",
    "\n",
    "print(set4)"
   ]
  },
  {
   "cell_type": "code",
   "execution_count": null,
   "id": "20fed11d",
   "metadata": {},
   "outputs": [],
   "source": []
  }
 ],
 "metadata": {
  "kernelspec": {
   "display_name": "Python 3 (ipykernel)",
   "language": "python",
   "name": "python3"
  },
  "language_info": {
   "codemirror_mode": {
    "name": "ipython",
    "version": 3
   },
   "file_extension": ".py",
   "mimetype": "text/x-python",
   "name": "python",
   "nbconvert_exporter": "python",
   "pygments_lexer": "ipython3",
   "version": "3.9.7"
  }
 },
 "nbformat": 4,
 "nbformat_minor": 5
}
