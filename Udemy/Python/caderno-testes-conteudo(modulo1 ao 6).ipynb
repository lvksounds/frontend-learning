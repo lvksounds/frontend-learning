{
 "cells": [
  {
   "cell_type": "code",
   "execution_count": 3,
   "id": "6b4b7e90",
   "metadata": {},
   "outputs": [
    {
     "name": "stdout",
     "output_type": "stream",
     "text": [
      "Idade: 23\n",
      "Voto permitido\n"
     ]
    }
   ],
   "source": [
    "#operadores ternarios\n",
    "idade = int(input('Idade: '))\n",
    "resultado = 'Voto permitido' if idade >= 16 else 'Voto nao permitido'\n",
    "print(resultado)"
   ]
  },
  {
   "cell_type": "code",
   "execution_count": 7,
   "id": "9413fa08",
   "metadata": {},
   "outputs": [
    {
     "name": "stdout",
     "output_type": "stream",
     "text": [
      "Valor do produto: 41\n",
      "Produto negado\n"
     ]
    }
   ],
   "source": [
    "#Multiplos operadores de comparação\n",
    "valor = int(input('Valor do produto: '))\n",
    "\n",
    "if 20 <= valor < 40:\n",
    "    print('Produto aceito')\n",
    "else:\n",
    "    print('Produto negado')"
   ]
  },
  {
   "cell_type": "code",
   "execution_count": 13,
   "id": "52972030",
   "metadata": {},
   "outputs": [
    {
     "name": "stdout",
     "output_type": "stream",
     "text": [
      "0\n",
      "1\n"
     ]
    }
   ],
   "source": [
    "#FOR loops (numeros)\n",
    "#usado para tarefas repetitivas \n",
    "\n",
    "#imprimir de 1 a 5\n",
    "\n",
    "for i in range(0, 2): \n",
    "    print(i)"
   ]
  },
  {
   "cell_type": "code",
   "execution_count": 24,
   "id": "dfa06597",
   "metadata": {},
   "outputs": [
    {
     "name": "stdout",
     "output_type": "stream",
     "text": [
      "l está dentro de lucas\n",
      "u está dentro de lucas\n",
      "c está dentro de lucas\n",
      "a está dentro de lucas\n",
      "s está dentro de lucas\n"
     ]
    }
   ],
   "source": [
    "#for loops (strings)\n",
    "#a variavel que é criada na estrutura do for (nesse caso 'letra')\n",
    "#acessa indice por indice dentro da propriedade escolhida\n",
    "\n",
    "palavra = 'lucas'\n",
    "\n",
    "for letra in palavra:\n",
    "    print(f'{letra} está dentro de {palavra}')"
   ]
  },
  {
   "cell_type": "code",
   "execution_count": 25,
   "id": "354f99c6",
   "metadata": {},
   "outputs": [
    {
     "name": "stdout",
     "output_type": "stream",
     "text": [
      "Compra no valor de R$12,50 e entrega confirmada\n",
      "Detalhes da compra enviados para seu email.\n"
     ]
    }
   ],
   "source": [
    "#for loops + if else \n",
    "compra_confirm = True\n",
    "dados_compra = 'Compra no valor de R$12,50 e entrega confirmada'\n",
    "\n",
    "\n",
    "for enviar in range(3): \n",
    "    if compra_confirm:\n",
    "        print(dados_compra)\n",
    "        print('Detalhes da compra enviados para seu email.')\n",
    "        break\n",
    "    else: \n",
    "        print('Falha na compra.')\n"
   ]
  },
  {
   "cell_type": "code",
   "execution_count": 37,
   "id": "59ecd9d7",
   "metadata": {},
   "outputs": [
    {
     "name": "stdout",
     "output_type": "stream",
     "text": [
      "Produto 1:\n",
      "Valor: 50$\n",
      "Produto 2:\n",
      "Valor: 50$\n",
      "Produto 3:\n",
      "Valor: 50$\n",
      "Produto 4:\n",
      "Valor: 50$\n",
      "Produto 5:\n",
      "Valor: 50$\n"
     ]
    }
   ],
   "source": [
    "#for loops nested\n",
    "#pra cada acesso ao indice do primeiro loop, o segundo loop rodou inteiro\n",
    "\n",
    "#outer loop\n",
    "    #inner loop\n",
    "    \n",
    "for numero1 in range(1,6):\n",
    "    print('Produto ' + str(numero1) + ':')\n",
    "    for numero2 in range(1):\n",
    "        preco = '50$'\n",
    "        print('Valor: ' + str(preco))"
   ]
  },
  {
   "cell_type": "code",
   "execution_count": 47,
   "id": "05c36496",
   "metadata": {},
   "outputs": [
    {
     "name": "stdout",
     "output_type": "stream",
     "text": [
      "Digite uma plavra: jesus\n",
      "j e s u s "
     ]
    }
   ],
   "source": [
    "#separando strings com for \n",
    "\n",
    "titulo = str(input('Digite uma plavra: '))\n",
    "for space in titulo:\n",
    "    print(f'{space} ', end='')"
   ]
  },
  {
   "cell_type": "code",
   "execution_count": 6,
   "id": "47934901",
   "metadata": {},
   "outputs": [
    {
     "name": "stdout",
     "output_type": "stream",
     "text": [
      "@@@@@@\n",
      "@@@@@@\n",
      "@@@@@@\n",
      "@@@@@@\n",
      "@@@@@@\n",
      "@@@@@@\n"
     ]
    }
   ],
   "source": [
    "#criando um retangulo com for \n",
    "\n",
    "lines = 6 \n",
    "columns = 6 \n",
    "simbol = '@'\n",
    "\n",
    "for l in range(lines): \n",
    "    for c in range(columns):\n",
    "        print(simbol, end='')\n",
    "    print()    \n",
    "\n",
    "\"\"\"\n",
    "no primeiro loop (for l in lines), o loop roda 6 vezes o loop interno (foc r in columns)\n",
    "\n",
    "\"\"\""
   ]
  },
  {
   "cell_type": "code",
   "execution_count": 27,
   "id": "666b5613",
   "metadata": {},
   "outputs": [
    {
     "name": "stdout",
     "output_type": "stream",
     "text": [
      "produto0\n",
      "tecido: algodao\n",
      "preço: 50$\n",
      "\n",
      "produto1\n",
      "tecido: algodao\n",
      "preço: 50$\n",
      "\n",
      "produto2\n",
      "tecido: algodao\n",
      "preço: 50$\n",
      "\n",
      "produto3\n",
      "tecido: algodao\n",
      "preço: 50$\n",
      "\n",
      "produto4\n",
      "tecido: algodao\n",
      "preço: 50$\n",
      "\n"
     ]
    }
   ],
   "source": [
    "for numero1 in range(5):\n",
    "    print('produto' + str(numero1))\n",
    "    for numero2 in range(1):\n",
    "        tecido = 'algodao'\n",
    "        valor = '50$'\n",
    "        print(f'tecido: {tecido}')\n",
    "        print(f'preço: {valor}')\n",
    "    print()"
   ]
  },
  {
   "cell_type": "code",
   "execution_count": 55,
   "id": "caa1ae20",
   "metadata": {},
   "outputs": [
    {
     "name": "stdout",
     "output_type": "stream",
     "text": [
      "dia: 1\n",
      "Promoção no valor de: R$95\n",
      "dia: 2\n",
      "Promoção no valor de: R$90\n",
      "dia: 3\n",
      "Promoção no valor de: R$85\n",
      "dia: 4\n",
      "Promoção no valor de: R$80\n",
      "dia: 5\n",
      "Promoção no valor de: R$75\n",
      "dia: 6\n",
      "Promoção no valor de: R$70\n",
      "dia: 7\n",
      "Promoção no valor de: R$65\n",
      "dia: 8\n",
      "Promoção no valor de: R$60\n",
      "dia: 9\n",
      "Promoção no valor de: R$55\n",
      "dia: 10\n",
      "Promoção no valor de: R$50\n",
      "dia: 11\n",
      "Promoção no valor de: R$45\n",
      "dia: 12\n",
      "Promoção no valor de: R$40\n",
      "dia: 13\n",
      "Promoção no valor de: R$35\n",
      "dia: 14\n",
      "Promoção no valor de: R$30\n"
     ]
    }
   ],
   "source": [
    "# == while loop ==  \n",
    "#Excelente para loops dependentes de uma condição \n",
    "#criar uma promoçao para um produto no valor de $100 \n",
    "\n",
    "valor = 100\n",
    "limite_preco = 30\n",
    "dia = 0\n",
    "\n",
    "while valor > limite_preco:\n",
    "    dia += 1\n",
    "    valor -= 5\n",
    "    print(f'dia: {dia}')\n",
    "  \n",
    "    print(f'Promoção no valor de: R${valor}')"
   ]
  },
  {
   "cell_type": "code",
   "execution_count": 63,
   "id": "77830d96",
   "metadata": {},
   "outputs": [
    {
     "name": "stdout",
     "output_type": "stream",
     "text": [
      "Valor do seu produto: 54\n",
      "valor com reajuste de 10%: R$59.4\n"
     ]
    }
   ],
   "source": [
    "#criando condições com while loop\n",
    "\n",
    "#publicar um produto com comissao de 10% se for acima de R$20\n",
    "\n",
    "valor = int(input(\"Valor do seu produto: \"))\n",
    "\n",
    "while valor > 20: \n",
    "    valor = (valor*0.10) + valor\n",
    "    print(f'valor com reajuste de 10%: R${valor}')\n",
    "    break\n"
   ]
  }
 ],
 "metadata": {
  "kernelspec": {
   "display_name": "Python 3 (ipykernel)",
   "language": "python",
   "name": "python3"
  },
  "language_info": {
   "codemirror_mode": {
    "name": "ipython",
    "version": 3
   },
   "file_extension": ".py",
   "mimetype": "text/x-python",
   "name": "python",
   "nbconvert_exporter": "python",
   "pygments_lexer": "ipython3",
   "version": "3.9.7"
  }
 },
 "nbformat": 4,
 "nbformat_minor": 5
}
