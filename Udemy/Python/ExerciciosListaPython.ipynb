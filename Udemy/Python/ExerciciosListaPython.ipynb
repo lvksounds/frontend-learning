{
 "cells": [
  {
   "cell_type": "markdown",
   "id": "d406acd0",
   "metadata": {},
   "source": [
    "<h1>EXERCICIOS - LISTAS</h1>\n",
    "<a>https://wiki.python.org.br/ExerciciosListas"
   ]
  },
  {
   "cell_type": "code",
   "execution_count": null,
   "id": "692cf6cf",
   "metadata": {},
   "outputs": [],
   "source": [
    "#2\n",
    "vetor = []\n",
    "for n in range(1,6):\n",
    "    num = int(input(f'entre com o °{n} numero: '))\n",
    "    vetor.append(num)\n",
    "print(f'vetor = {vetor}')\n",
    "print(f'impressao em ordem decrescente: {sorted(vetor, reverse = True)}') "
   ]
  },
  {
   "cell_type": "code",
   "execution_count": null,
   "id": "0f65373e",
   "metadata": {},
   "outputs": [],
   "source": [
    "#3\n",
    "notas = []\n",
    "\n",
    "print('Entre com as notas do ano')\n",
    "for i in range(1, 5):\n",
    "    nota = float(input(f'°{i} nota: '))\n",
    "    notas.append(nota)\n",
    "\n",
    "media = sum(notas)/4\n",
    "\n",
    "print(f'Notas: {notas}')\n",
    "print(f'Média: {round(media, 1)}')"
   ]
  },
  {
   "cell_type": "code",
   "execution_count": null,
   "id": "116bf731",
   "metadata": {},
   "outputs": [],
   "source": [
    "#4\n",
    "vetor_letras = []\n",
    "vogais = ['a', 'e', 'i', 'o', 'u']\n",
    "consoantes = []\n",
    "for l in range(4):\n",
    "    letra = str(input('Digite uma letra: '))\n",
    "    vetor_letras.append(letra)\n",
    "    if (letra not in vogais):\n",
    "        consoantes.append(letra)\n",
    "print(vetor_letras)\n",
    "print(f'Lista de consoantes: {consoantes}, Numero de consoantes: {len(consoantes)}')"
   ]
  },
  {
   "cell_type": "code",
   "execution_count": null,
   "id": "09defe8f",
   "metadata": {},
   "outputs": [],
   "source": [
    "#5\n",
    "numeros = []\n",
    "par = []\n",
    "impar = []\n",
    "\n",
    "for n in range(10):\n",
    "    num = int(input(f'Digite o °{n} número: '))\n",
    "    numeros.append(num)\n",
    "    if(num%2 == 0):\n",
    "        par.append(num)\n",
    "    else:\n",
    "        impar.append(num)\n",
    "print(f'Numeros: {numeros}')\n",
    "print(f'Impares: {impar}')\n",
    "print(f'pares: {par}')"
   ]
  },
  {
   "cell_type": "code",
   "execution_count": null,
   "id": "92329189",
   "metadata": {},
   "outputs": [],
   "source": [
    "#6\n",
    "\"\"\"\n",
    "Faça um Programa que peça as quatro notas de 10 alunos \n",
    "calcule e armazene num vetor a média de cada aluno\n",
    "imprima o número de alunos com média maior ou igual a 7.0.\n",
    "\"\"\"\n",
    "lista_notas = []\n",
    "medias = []\n",
    "media_maior = []\n",
    "\n",
    "for i in range(1, 3):\n",
    "    print(f'{i}° aluno .')\n",
    "    for j in range(1, 5):\n",
    "        nota = float(input(f'Entre com sua {j}° nota:'))\n",
    "        lista_notas.append(nota)\n",
    "        media = sum(lista_notas)/4\n",
    "    print(round(media, 1))\n",
    "    if (media >= 7):\n",
    "        media_maior.append(media)\n",
    "print(f'Numero de alunos com media maior ou igual a 7: {len(media_maior)}')"
   ]
  },
  {
   "cell_type": "code",
   "execution_count": 10,
   "id": "7bc95054",
   "metadata": {},
   "outputs": [
    {
     "name": "stdout",
     "output_type": "stream",
     "text": [
      "Entre com o 1° 10\n",
      "Entre com o 2° 5\n",
      "Entre com o 3° 1\n",
      "Entre com o 4° 1\n",
      "Entre com o 5° 1\n",
      "18\n",
      "50\n"
     ]
    },
    {
     "data": {
      "text/plain": [
       "'print(prod(vetorNums))'"
      ]
     },
     "execution_count": 10,
     "metadata": {},
     "output_type": "execute_result"
    }
   ],
   "source": [
    "# 7\n",
    "# Faça um Programa que leia um vetor de 5 números inteiros, mostre a soma, a multiplicação e os números.\n",
    "import math\n",
    "from math import prod\n",
    "\n",
    "def prod(vetor):\n",
    "    produto = 1\n",
    "    for x in vetor:\n",
    "        produto = produto * x\n",
    "    return produto\n",
    "vetorNums = []\n",
    " \n",
    "for i in range(1, 6):\n",
    "    num = int(input(f'Entre com o {i}° '))\n",
    "    vetorNums.append(num)\n",
    "    \n",
    "print(sum(vetorNums))\n",
    "print(prod(vetorNums))\n",
    "\n",
    "\"\"\"print(prod(vetorNums))\"\"\""
   ]
  },
  {
   "cell_type": "code",
   "execution_count": null,
   "id": "38166462",
   "metadata": {},
   "outputs": [],
   "source": [
    "'''\n",
    "Faça um Programa que peça a idade e a altura de 5 pessoas, armazene cada informação no seu respectivo vetor. Imprima a idade e a altura na ordem inversa a ordem lida\n",
    "'''\n",
    "\n",
    "idades = []\n",
    "alturas = []\n",
    "\n",
    "print(\"Entre com 5 idades e alturas: \")\n",
    "for x in range(2):\n",
    "    idade = int(input(\"Idade: \"))\n",
    "    idades.append(idade)\n",
    "\n",
    "    altura = float(input(\"Altura: \"))\n",
    "    alturas.append(altura)\n",
    "\n",
    "print(list(reversed(idades)))"
   ]
  },
  {
   "cell_type": "code",
   "execution_count": null,
   "id": "8d1db3ce",
   "metadata": {},
   "outputs": [],
   "source": [
    "'''\n",
    "Faça um Programa que leia um vetor A com 10 números inteiros, calcule e mostre a soma dos quadrados dos elementos do vetor.\n",
    "'''\n",
    "\n",
    "A = [1, 2, 3, 4, 5, 6, 7, 8, 9, 10]\n",
    "\n",
    "numerosQuad = map(lambda x: x**2, A)\n",
    "\n",
    "soma = sum(numerosQuad)\n",
    "\n",
    "print(soma)"
   ]
  },
  {
   "cell_type": "code",
   "execution_count": 4,
   "id": "32f4ff26",
   "metadata": {},
   "outputs": [
    {
     "name": "stdout",
     "output_type": "stream",
     "text": [
      "[94, 22, 37, 22, 93, 29, 18, 96, 91, 73]\n",
      "[43, 15, 39, 22, 63, 75, 14, 1, 74, 43]\n",
      "\n",
      "[94, 43, 22, 15, 37, 39, 22, 22, 93, 63, 29, 75, 18, 14, 96, 1, 91, 74, 73, 43]\n"
     ]
    }
   ],
   "source": [
    "'''\n",
    "Faça um Programa que leia dois vetores com 10 elementos cada.\n",
    "Gere um terceiro vetor de 20 elementos, \n",
    "cujos valores deverão ser compostos pelos elementos intercalados dos dois outros vetores.\n",
    "'''\n",
    "\n",
    "from numpy import random\n",
    "\n",
    "vetor1 = []\n",
    "vetor2 = []\n",
    "\n",
    "for x in range(10):\n",
    "    num = random.randint(100)\n",
    "    vetor1.append(num)\n",
    "    num2 = random.randint(100)\n",
    "    vetor2.append(num2)\n",
    "\n",
    "print(vetor1)\n",
    "print(vetor2)\n",
    "\n",
    "vetor3 = vetor1 + vetor2\n",
    "vetor3[::2] = vetor1 # modifica o indice da lista para usar os itens da lista 1 de 1-1\n",
    "vetor3[1::2] = vetor2 # coloca a lista2 nos intervalos\n",
    "\n",
    "print()\n",
    "print(vetor3)\n",
    "\n"
   ]
  },
  {
   "cell_type": "code",
   "execution_count": null,
   "id": "fbf6d6c0",
   "metadata": {},
   "outputs": [],
   "source": [
    "'''\n",
    "Faça um Programa que leia dois vetores com 10 elementos cada.\n",
    "Gere um terceiro vetor de 20 elementos, \n",
    "cujos valores deverão ser compostos pelos elementos intercalados dos dois outros vetores.\n",
    "'''\n",
    "\n",
    "\n",
    "from numpy import random\n",
    "\n",
    "vetor1 = []\n",
    "vetor2 = []\n",
    "vetor3 = []\n",
    "\n",
    "for x in range(10):\n",
    "    num = random.randint(10)\n",
    "    vetor1.append(num)\n",
    "    num2 = random.randint(10)\n",
    "    vetor2.append(num2)\n",
    "    num3 = random.randint(10)\n",
    "    vetor3.append(num3)\n",
    "\n",
    "print(vetor1)\n",
    "print(vetor2)\n",
    "print(vetor3)\n",
    "\n",
    "vetor4 = vetor1 + vetor2 + vetor3\n",
    "\n",
    "\n",
    "vetor4[::3] = vetor1 # modifica o indice da lista para usar os itens da lista 1 de 1-1\n",
    "vetor4[1::3] = vetor2 # coloca a lista2 nos intervalos\n",
    "vetor4[2::3] = vetor3\n",
    "\n",
    "\n",
    "print()\n",
    "print(vetor4)\n",
    "\n"
   ]
  }
 ],
 "metadata": {
  "kernelspec": {
   "display_name": "Python 3 (ipykernel)",
   "language": "python",
   "name": "python3"
  },
  "language_info": {
   "codemirror_mode": {
    "name": "ipython",
    "version": 3
   },
   "file_extension": ".py",
   "mimetype": "text/x-python",
   "name": "python",
   "nbconvert_exporter": "python",
   "pygments_lexer": "ipython3",
   "version": "3.9.7"
  }
 },
 "nbformat": 4,
 "nbformat_minor": 5
}
