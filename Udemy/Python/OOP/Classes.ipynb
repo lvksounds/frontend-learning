{
 "cells": [
  {
   "cell_type": "markdown",
   "id": "14931cca",
   "metadata": {},
   "source": [
    "<h1>OOP</h1>"
   ]
  },
  {
   "cell_type": "code",
   "execution_count": null,
   "id": "2854c30e",
   "metadata": {},
   "outputs": [],
   "source": [
    "# Python Object-Oriented Programming\n",
    "\n",
    "# classes \n",
    "    # Utilizadas para criar objetos (instances)\n",
    "    # Objetos são partes dentro de uma class (instancias)\n",
    "    # Classes sao utilizadas para agrupar dados e funções, podendo reutilizar\n",
    "    # ====\n",
    "    # class: Frutas\n",
    "    # objects: abacate, banana\n",
    "\n",
    "# sempre primeira letra do nome da class tem que ser maiuscula  \n",
    "\n",
    "# criar a classe \n",
    "class Funcionarios:\n",
    "    \n",
    "    def __init__(self, nome, sobrenome, data_nascimento):\n",
    "        self.nome = nome\n",
    "        self.sobrenome = sobrenome\n",
    "        self.data_nascimento =  data_nascimento  \n",
    "\n",
    "# criar o objeto\n",
    "usuario1 = Funcionarios('Lucas', 'Freitas', '10/06/1998')\n",
    "usuario2 = Funcionarios('Julia', 'Nicolau', '30/10/1999')\n",
    "usuario3 = Funcionarios('Joao', 'Fernandes', '31/12/2004')\n",
    "\n",
    "\n",
    "# print\n",
    "print(usuario1.nome, usuario1.sobrenome, usuario1.data_nascimento)\n",
    "print(usuario2.nome, usuario2.sobrenome, usuario2.data_nascimento)\n",
    "print(usuario3.nome, usuario3.sobrenome, usuario3.data_nascimento)\n",
    "\n",
    "\n",
    "\n",
    "\n",
    "'''# criar os parametros do usuario1\n",
    "usuario1.nome = 'Lucas'\n",
    "usuario1.sobrenome = 'Freitas'\n",
    "usuario1.data_nascimento = '10/06/1998'\n",
    "\n",
    "# criar os parametros do usuario2\n",
    "usuario2.nome = 'Julia'\n",
    "usuario2.sobrenome = 'Nicolau'\n",
    "usuario2.data_nascimento = '30/10/1999'''"
   ]
  },
  {
   "cell_type": "code",
   "execution_count": null,
   "id": "297cd4dd",
   "metadata": {},
   "outputs": [],
   "source": [
    "# Definir uma classe: \n",
    "# Especificando membros: \n",
    "\n",
    "\"\"\"class Nomeclasse: #cabeçalho da classe\n",
    "    '''docstring (extremamente recomendavel)'''\n",
    "    dado = valor  #dado de classe compartilhado (atributo de classe)\n",
    "    def metodo_construtor: # metodo construtor __init__\n",
    "        cogido metodo construtor\n",
    "    def método(self,...): # metodo geral\n",
    "        self.membro = valor # dado de instancia ('self')\"\"\""
   ]
  },
  {
   "cell_type": "code",
   "execution_count": null,
   "id": "03cc6c9b",
   "metadata": {},
   "outputs": [],
   "source": [
    "class Cubo\n"
   ]
  },
  {
   "cell_type": "code",
   "execution_count": null,
   "id": "1f5ba381",
   "metadata": {},
   "outputs": [],
   "source": []
  },
  {
   "cell_type": "code",
   "execution_count": null,
   "id": "f60cd494",
   "metadata": {},
   "outputs": [],
   "source": []
  }
 ],
 "metadata": {
  "kernelspec": {
   "display_name": "Python 3 (ipykernel)",
   "language": "python",
   "name": "python3"
  },
  "language_info": {
   "codemirror_mode": {
    "name": "ipython",
    "version": 3
   },
   "file_extension": ".py",
   "mimetype": "text/x-python",
   "name": "python",
   "nbconvert_exporter": "python",
   "pygments_lexer": "ipython3",
   "version": "3.9.7"
  }
 },
 "nbformat": 4,
 "nbformat_minor": 5
}
