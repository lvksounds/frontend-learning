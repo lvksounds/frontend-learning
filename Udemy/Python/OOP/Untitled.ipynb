{
 "cells": [
  {
   "cell_type": "code",
   "execution_count": 5,
   "id": "5230f9b9",
   "metadata": {},
   "outputs": [],
   "source": [
    "class Cubo:\n",
    "    def __init__(self, valor):\n",
    "        self.x = valor\n",
    "    def calc_cubo(self):\n",
    "        cubo = self.x * self.x * self.x\n",
    "        return cubo\n"
   ]
  },
  {
   "cell_type": "code",
   "execution_count": 8,
   "id": "8f1cb990",
   "metadata": {},
   "outputs": [
    {
     "name": "stdout",
     "output_type": "stream",
     "text": [
      "216\n"
     ]
    }
   ],
   "source": [
    "teste = Cubo(6) # objeto\n",
    "c = teste.calc_cubo()\n",
    "\n",
    "print(c)"
   ]
  },
  {
   "cell_type": "code",
   "execution_count": 15,
   "id": "249c292f",
   "metadata": {},
   "outputs": [],
   "source": [
    "class Soma:\n",
    "    def __init__(self, valor):\n",
    "        self.y = valor\n",
    "    def soma_tudo(self):\n",
    "        soma = self.y + self.y\n",
    "        return soma\n",
    "        "
   ]
  },
  {
   "cell_type": "code",
   "execution_count": 16,
   "id": "2344b6df",
   "metadata": {},
   "outputs": [
    {
     "name": "stdout",
     "output_type": "stream",
     "text": [
      "10\n"
     ]
    }
   ],
   "source": [
    "num = Soma(5)\n",
    "res = num.soma_tudo()\n",
    "\n",
    "print(res)"
   ]
  },
  {
   "cell_type": "code",
   "execution_count": 29,
   "id": "3a009062",
   "metadata": {},
   "outputs": [],
   "source": [
    "# classe\n",
    "class Funcionario:\n",
    "    def __init__(self, nome, sobrenome):\n",
    "        self.nome = nome\n",
    "        self.sobrenome = sobrenome\n",
    "    def printa(self):\n",
    "        return self.nome + ' ' + self.sobrenome"
   ]
  },
  {
   "cell_type": "code",
   "execution_count": 30,
   "id": "5a4ebb3e",
   "metadata": {},
   "outputs": [],
   "source": [
    "# objetos\n",
    "user1 = Funcionario('Lucas','Oliveira')"
   ]
  },
  {
   "cell_type": "code",
   "execution_count": 31,
   "id": "ca83e779",
   "metadata": {},
   "outputs": [
    {
     "name": "stdout",
     "output_type": "stream",
     "text": [
      "Lucas Oliveira\n"
     ]
    }
   ],
   "source": [
    "print(Funcionario.printa(user1))"
   ]
  },
  {
   "cell_type": "code",
   "execution_count": null,
   "id": "c5749f78",
   "metadata": {},
   "outputs": [],
   "source": []
  }
 ],
 "metadata": {
  "kernelspec": {
   "display_name": "Python 3 (ipykernel)",
   "language": "python",
   "name": "python3"
  },
  "language_info": {
   "codemirror_mode": {
    "name": "ipython",
    "version": 3
   },
   "file_extension": ".py",
   "mimetype": "text/x-python",
   "name": "python",
   "nbconvert_exporter": "python",
   "pygments_lexer": "ipython3",
   "version": "3.9.7"
  }
 },
 "nbformat": 4,
 "nbformat_minor": 5
}
